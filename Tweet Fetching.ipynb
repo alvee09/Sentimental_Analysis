{
 "cells": [
  {
   "cell_type": "code",
   "execution_count": 319,
   "metadata": {},
   "outputs": [],
   "source": [
    "import pandas as pd"
   ]
  },
  {
   "cell_type": "code",
   "execution_count": 320,
   "metadata": {},
   "outputs": [],
   "source": [
    "data = pd.read_csv(\"./Downloads/2021_01_01_00_Summary_Sentiment.csv\")"
   ]
  },
  {
   "cell_type": "code",
   "execution_count": 321,
   "metadata": {},
   "outputs": [],
   "source": [
    "data4= pd.read_csv(\"./Downloads/2021_march28_march29.csv\", names = [\"tweet_ID\", \"Geo\"])"
   ]
  },
  {
   "cell_type": "code",
   "execution_count": 333,
   "metadata": {},
   "outputs": [
    {
     "name": "stdout",
     "output_type": "stream",
     "text": [
      "Empty DataFrame\n",
      "Columns: [Tweet_ID, Sentiment_Label, Logits_Neutral, Logits_Positive, Logits_Negative]\n",
      "Index: []\n"
     ]
    }
   ],
   "source": [
    "#data3.loc[data3[\"tweet_ID\"] == 1224743166844320000, \"tweet\"] = \"tweet nai\"\n",
    "#data3.head()\n",
    "new_data = pd.DataFrame(columns = data3.columns)\n",
    "print(new_data)"
   ]
  },
  {
   "cell_type": "code",
   "execution_count": 335,
   "metadata": {},
   "outputs": [
    {
     "name": "stderr",
     "output_type": "stream",
     "text": [
      "WARNING:twarc:rate limit exceeded: sleeping 77.93679690361023 secs\n"
     ]
    },
    {
     "name": "stdout",
     "output_type": "stream",
     "text": [
      "                   Tweet_ID Sentiment_Label  Logits_Neutral  Logits_Positive  \\\n",
      "2012    1344795801550131200        negative        1.341078        -0.913896   \n",
      "4721    1344796216735875074        positive        1.195422         1.456938   \n",
      "9668    1344797457486528512        positive        0.941104         5.801032   \n",
      "12361   1344798230337359873        negative        1.478128        -1.521863   \n",
      "12536   1344798281407238144        positive        0.523562         2.530440   \n",
      "...                     ...             ...             ...              ...   \n",
      "131767  1344804142275911680        negative        1.314054        -0.980303   \n",
      "132152  1344805150162972672         neutral        1.714579        -0.188382   \n",
      "132417  1344805876813627392        negative        1.207187        -0.640707   \n",
      "132458  1344805982489071616        negative        1.535334        -0.709514   \n",
      "133517  1344808517203419136        negative        0.832218        -0.765737   \n",
      "\n",
      "        Logits_Negative                                         Tweet_text  \\\n",
      "2012           2.755286  Distraction strategy when the PM has no idea h...   \n",
      "4721           0.290641  @AnthonyCole68 Me2.....makes all the differenc...   \n",
      "9668          -1.371137  Happy New Year to my home Country. Welcome to ...   \n",
      "12361          3.696737  @LucyBattersby Must agree with many comments L...   \n",
      "12536          0.284532  @MelissaBrownABC @rwillingham @VicGovDHHS @abc...   \n",
      "...                 ...                                                ...   \n",
      "131767         2.305475  Vic has been virus free for two months. Bit ha...   \n",
      "132152         1.039860  @trinapetrina @mormorlady @marxdeane @GladysB ...   \n",
      "132417         2.395474  @DrAlexanderHop1 @dgurdasani1 @GrogsGamut I wa...   \n",
      "132458         1.886390  @ScottMorrisonMP So now is it time you put par...   \n",
      "133517         2.753311  Those denialists who still think that Covid19 ...   \n",
      "\n",
      "          country                      created_at  \n",
      "2012    Australia  Fri Jan 01 00:01:18 +0000 2021  \n",
      "4721    Australia  Fri Jan 01 00:02:57 +0000 2021  \n",
      "9668    Australia  Fri Jan 01 00:07:53 +0000 2021  \n",
      "12361   Australia  Fri Jan 01 00:10:57 +0000 2021  \n",
      "12536   Australia  Fri Jan 01 00:11:10 +0000 2021  \n",
      "...           ...                             ...  \n",
      "131767  Australia  Fri Jan 01 00:34:27 +0000 2021  \n",
      "132152  Australia  Fri Jan 01 00:38:27 +0000 2021  \n",
      "132417  Australia  Fri Jan 01 00:41:20 +0000 2021  \n",
      "132458  Australia  Fri Jan 01 00:41:46 +0000 2021  \n",
      "133517  Australia  Fri Jan 01 00:51:50 +0000 2021  \n",
      "\n",
      "[74 rows x 8 columns]\n"
     ]
    }
   ],
   "source": [
    "from twarc import Twarc\n",
    "\n",
    "consumer_key=\"ruQ0WMdFl5x5juM3jyTyr1Sow\"\n",
    "consumer_secret=\"nJNpEQmD6ZuyTM4npQ35FziJKi7ywRwJ4ihAPirwcdJEr44t1l\"\n",
    "access_token=\"AAAAAAAAAAAAAAAAAAAAANUbTAEAAAAAQqGu0FE29f64VmVwCtsPNbZijbg%3D8xa2lH50Y10Le7UVb2w7N6tuSHvwr2DSOdb1KsizaUwjhoxWYQ\"\n",
    "access_token_secret=\"\"\n",
    "\n",
    "t = Twarc(consumer_key, consumer_secret, access_token, access_token_secret)\n",
    "rowcount = 0\n",
    "for tweet in t.hydrate(data[\"Tweet_ID\"]):    \n",
    "    #print(\"in for\")\n",
    "    #data3.loc[data3[\"Tweet_ID\"] == tweet[\"id\"], \"tweet\"] = tweet['full_text']\n",
    "    #print(data3.loc[data3[\"Tweet_ID\"] == tweet[\"id\"]])\n",
    "    #new_data = new_data.append(data3.loc[data3[\"Tweet_ID\"] == tweet[\"id\"]], ignore_index = True)\n",
    "    #print(new_data)\n",
    "    try:\n",
    "        if (tweet['place']['country'] == \"Australia\"):\n",
    "            new_data = new_data.append(data3.loc[data[\"Tweet_ID\"] == tweet[\"id\"]])\n",
    "\n",
    "            new_data.loc[new_data[\"Tweet_ID\"] == tweet[\"id\"], \"Tweet_text\"] = tweet['full_text']\n",
    "            new_data.loc[new_data[\"Tweet_ID\"] == tweet[\"id\"], \"country\"] = tweet['place']['country']\n",
    "            new_data.loc[new_data[\"Tweet_ID\"] == tweet[\"id\"], \"created_at\"] =tweet['created_at']\n",
    "            #new_data.append(data3.loc[data3[\"Tweet_ID\"] == tweet[\"id\"]])\n",
    "            #new_data.loc[new_data[\"Tweet_ID\"] == tweet[\"id\"], \"Country\"] = tweet['place']['country']\n",
    "                #data3.loc[data3[\"Tweet_ID\"] == tweet[\"id\"], \"Country\"] = tweet['place']['country']\n",
    "        else:\n",
    "            pass\n",
    "    except:\n",
    "            pass\n",
    "        #data3.loc[data3[\"Tweet_ID\"] == tweet[\"id\"], \"Country\"] = tweet['place']\n",
    "    #data3.loc[rowcount]['id_from_twitter'] = tweet['id']\n",
    "    #print(tweet['full_text'])\n",
    "    #print(tweet.keys())\n",
    "\n",
    "\n",
    "print(new_data)\n",
    "    #\n",
    "#rowcount+=1\n",
    "    \n",
    "    #print(tweet['id'])\n",
    "    \n",
    "    #if tweet['place']:\n",
    "     #   print(tweet['place']['country'])\n"
   ]
  },
  {
   "cell_type": "code",
   "execution_count": 336,
   "metadata": {},
   "outputs": [],
   "source": [
    "new_data.to_csv('./Downloads/with_tweet.csv', index=False)"
   ]
  },
  {
   "cell_type": "code",
   "execution_count": null,
   "metadata": {},
   "outputs": [],
   "source": []
  }
 ],
 "metadata": {
  "kernelspec": {
   "display_name": "Python 3",
   "language": "python",
   "name": "python3"
  },
  "language_info": {
   "codemirror_mode": {
    "name": "ipython",
    "version": 3
   },
   "file_extension": ".py",
   "mimetype": "text/x-python",
   "name": "python",
   "nbconvert_exporter": "python",
   "pygments_lexer": "ipython3",
   "version": "3.7.6"
  }
 },
 "nbformat": 4,
 "nbformat_minor": 4
}
