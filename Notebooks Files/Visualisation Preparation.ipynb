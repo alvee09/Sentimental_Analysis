{
 "cells": [
  {
   "cell_type": "code",
   "execution_count": 269,
   "metadata": {},
   "outputs": [],
   "source": [
    "import pandas as pd\n",
    "import numpy as np\n",
    "import re, string, random\n",
    "from datetime import datetime\n",
    "data = pd.read_csv(\"./Documents/GitHub/Sentimental_Analysis/covid19SentimentalAnalysis/Data_output/allMerged.csv\")\n",
    "data[\"date\"]= \"\"\n",
    "data[\"day\"]= \"\"\n",
    "data[\"month\"]= \"\"\n",
    "\n",
    "words = pd.read_csv(\"./Documents/GitHub/Sentimental_Analysis/covid19SentimentalAnalysis/Data_output/wordList.csv\")\n",
    "words['words'] = words['words'].str.lower()\n",
    "for index, row in words.iterrows():\n",
    "    word = words['words'][index]\n",
    "    # Remove whitespace (including new line characters)\n",
    "    word = re.sub(r'\\s\\s+', ' ', word)\n",
    "    # Remove single space remaining at the front of the tweet.\n",
    "    word = word.lstrip(' ')\n",
    "    words['words'][index] = word\n"
   ]
  },
  {
   "cell_type": "code",
   "execution_count": 270,
   "metadata": {},
   "outputs": [],
   "source": [
    "date_time_str= data[\"created_at\"][100]"
   ]
  },
  {
   "cell_type": "code",
   "execution_count": 271,
   "metadata": {},
   "outputs": [
    {
     "data": {
      "text/html": [
       "<div>\n",
       "<style scoped>\n",
       "    .dataframe tbody tr th:only-of-type {\n",
       "        vertical-align: middle;\n",
       "    }\n",
       "\n",
       "    .dataframe tbody tr th {\n",
       "        vertical-align: top;\n",
       "    }\n",
       "\n",
       "    .dataframe thead th {\n",
       "        text-align: right;\n",
       "    }\n",
       "</style>\n",
       "<table border=\"1\" class=\"dataframe\">\n",
       "  <thead>\n",
       "    <tr style=\"text-align: right;\">\n",
       "      <th></th>\n",
       "      <th>words</th>\n",
       "    </tr>\n",
       "  </thead>\n",
       "  <tbody>\n",
       "    <tr>\n",
       "      <th>67</th>\n",
       "      <td>gathering</td>\n",
       "    </tr>\n",
       "    <tr>\n",
       "      <th>68</th>\n",
       "      <td>death</td>\n",
       "    </tr>\n",
       "    <tr>\n",
       "      <th>69</th>\n",
       "      <td>infection</td>\n",
       "    </tr>\n",
       "    <tr>\n",
       "      <th>70</th>\n",
       "      <td>record</td>\n",
       "    </tr>\n",
       "    <tr>\n",
       "      <th>71</th>\n",
       "      <td>social distance</td>\n",
       "    </tr>\n",
       "  </tbody>\n",
       "</table>\n",
       "</div>"
      ],
      "text/plain": [
       "              words\n",
       "67        gathering\n",
       "68            death\n",
       "69        infection\n",
       "70           record\n",
       "71  social distance"
      ]
     },
     "execution_count": 271,
     "metadata": {},
     "output_type": "execute_result"
    }
   ],
   "source": [
    "words.tail()"
   ]
  },
  {
   "cell_type": "code",
   "execution_count": 272,
   "metadata": {},
   "outputs": [],
   "source": [
    "for index, row in words.iterrows():\n",
    "    data[words['words'][index]] = 0"
   ]
  },
  {
   "cell_type": "code",
   "execution_count": 273,
   "metadata": {},
   "outputs": [
    {
     "data": {
      "text/plain": [
       "str"
      ]
     },
     "execution_count": 273,
     "metadata": {},
     "output_type": "execute_result"
    }
   ],
   "source": [
    "date_time_str\n",
    "dtime = 'Fri Oct 09 10:01:41 +0000 2015'\n",
    "new_datetime = datetime.strftime(datetime.strptime(date_time_str,'%a %b %d %H:%M:%S +0000 %Y'), '%Y-%m-%d %H:%M:%S')\n",
    "type(new_datetime)"
   ]
  },
  {
   "cell_type": "code",
   "execution_count": 274,
   "metadata": {},
   "outputs": [
    {
     "name": "stderr",
     "output_type": "stream",
     "text": [
      "/Users/alvee/opt/anaconda3/lib/python3.7/site-packages/ipykernel_launcher.py:11: SettingWithCopyWarning: \n",
      "A value is trying to be set on a copy of a slice from a DataFrame\n",
      "\n",
      "See the caveats in the documentation: https://pandas.pydata.org/pandas-docs/stable/user_guide/indexing.html#returning-a-view-versus-a-copy\n",
      "  # This is added back by InteractiveShellApp.init_path()\n"
     ]
    }
   ],
   "source": [
    "data['Tweet_text'] = data['Tweet_text'].str.lower()\n",
    "data['hashtags'] = data['hashtags'].str.lower()\n",
    "#print(data.head())\n",
    "for index, row in data.iterrows():\n",
    "    tweet = data['Tweet_text'][index]\n",
    "\n",
    "    tweet = re.sub(r'\\s\\s+', ' ', tweet)\n",
    "    # Remove single space remaining at the front of the tweet.\n",
    "    tweet = tweet.lstrip(' ') \n",
    "  \n",
    "    data['Tweet_text'][index] = tweet"
   ]
  },
  {
   "cell_type": "code",
   "execution_count": 275,
   "metadata": {},
   "outputs": [
    {
     "name": "stderr",
     "output_type": "stream",
     "text": [
      "/Users/alvee/opt/anaconda3/lib/python3.7/site-packages/ipykernel_launcher.py:9: SettingWithCopyWarning: \n",
      "A value is trying to be set on a copy of a slice from a DataFrame\n",
      "\n",
      "See the caveats in the documentation: https://pandas.pydata.org/pandas-docs/stable/user_guide/indexing.html#returning-a-view-versus-a-copy\n",
      "  if __name__ == '__main__':\n",
      "/Users/alvee/opt/anaconda3/lib/python3.7/site-packages/ipykernel_launcher.py:10: SettingWithCopyWarning: \n",
      "A value is trying to be set on a copy of a slice from a DataFrame\n",
      "\n",
      "See the caveats in the documentation: https://pandas.pydata.org/pandas-docs/stable/user_guide/indexing.html#returning-a-view-versus-a-copy\n",
      "  # Remove the CWD from sys.path while we load stuff.\n",
      "/Users/alvee/opt/anaconda3/lib/python3.7/site-packages/ipykernel_launcher.py:11: SettingWithCopyWarning: \n",
      "A value is trying to be set on a copy of a slice from a DataFrame\n",
      "\n",
      "See the caveats in the documentation: https://pandas.pydata.org/pandas-docs/stable/user_guide/indexing.html#returning-a-view-versus-a-copy\n",
      "  # This is added back by InteractiveShellApp.init_path()\n"
     ]
    }
   ],
   "source": [
    "for index, row in data.iterrows():\n",
    "    new_datetime = datetime.strptime(data['created_at'][index],'%a %b %d %H:%M:%S +0000 %Y')\n",
    "    #print(new_datetime)\n",
    "    month_name = new_datetime.strftime(\"%b\")\n",
    "    date = new_datetime.strftime(\"%d\")\n",
    "    day = new_datetime.strftime(\"%a\")\n",
    "    #month = new_datetime.ToString(\"MMMM\")\n",
    "    #print(month_name)\n",
    "    data['day'][index] = day\n",
    "    data['month'][index] = month_name\n",
    "    data['date'][index] = date\n"
   ]
  },
  {
   "cell_type": "code",
   "execution_count": null,
   "metadata": {},
   "outputs": [],
   "source": []
  },
  {
   "cell_type": "code",
   "execution_count": 276,
   "metadata": {},
   "outputs": [
    {
     "name": "stderr",
     "output_type": "stream",
     "text": [
      "/Users/alvee/opt/anaconda3/lib/python3.7/site-packages/ipykernel_launcher.py:8: SettingWithCopyWarning: \n",
      "A value is trying to be set on a copy of a slice from a DataFrame\n",
      "\n",
      "See the caveats in the documentation: https://pandas.pydata.org/pandas-docs/stable/user_guide/indexing.html#returning-a-view-versus-a-copy\n",
      "  \n"
     ]
    }
   ],
   "source": [
    "for index, row in data.iterrows():\n",
    "    tweet = data['Tweet_text'][index]\n",
    "    hashtags = data['hashtags'][index]\n",
    "    \n",
    "    for index2, row2 in words.iterrows():\n",
    "        word = words['words'][index2]\n",
    "        if word in tweet:\n",
    "            data[words['words'][index2]][index]= \"1\"\n",
    "        #if words['words'][index2] in tweet:\n",
    "         #   data[words['words'][index2]][index]= \"1\"\n",
    "\n",
    "    #if \"lockdown\" in tweet:\n",
    "    \n",
    "    \n",
    "        "
   ]
  },
  {
   "cell_type": "code",
   "execution_count": 277,
   "metadata": {},
   "outputs": [],
   "source": [
    "data.to_csv(\"./Documents/GitHub/Sentimental_Analysis/covid19SentimentalAnalysis/Data_output/allMergedWithMonthv6.csv\", index= False)"
   ]
  },
  {
   "cell_type": "code",
   "execution_count": 256,
   "metadata": {},
   "outputs": [
    {
     "data": {
      "text/html": [
       "<div>\n",
       "<style scoped>\n",
       "    .dataframe tbody tr th:only-of-type {\n",
       "        vertical-align: middle;\n",
       "    }\n",
       "\n",
       "    .dataframe tbody tr th {\n",
       "        vertical-align: top;\n",
       "    }\n",
       "\n",
       "    .dataframe thead th {\n",
       "        text-align: right;\n",
       "    }\n",
       "</style>\n",
       "<table border=\"1\" class=\"dataframe\">\n",
       "  <thead>\n",
       "    <tr style=\"text-align: right;\">\n",
       "      <th></th>\n",
       "      <th>Tweet_ID</th>\n",
       "      <th>Sentiment_Label</th>\n",
       "      <th>Logits_Neutral</th>\n",
       "      <th>Logits_Positive</th>\n",
       "      <th>Logits_Negative</th>\n",
       "      <th>Tweet_text</th>\n",
       "      <th>hashtags</th>\n",
       "      <th>country</th>\n",
       "      <th>created_at</th>\n",
       "      <th>date</th>\n",
       "      <th>...</th>\n",
       "      <th>hospital</th>\n",
       "      <th>mass vaccination</th>\n",
       "      <th>olympic park</th>\n",
       "      <th>bondi cluster</th>\n",
       "      <th>greater sydney</th>\n",
       "      <th>gathering</th>\n",
       "      <th>death</th>\n",
       "      <th>infection</th>\n",
       "      <th>record</th>\n",
       "      <th>social distance</th>\n",
       "    </tr>\n",
       "  </thead>\n",
       "  <tbody>\n",
       "    <tr>\n",
       "      <th>0</th>\n",
       "      <td>1.344796e+18</td>\n",
       "      <td>negative</td>\n",
       "      <td>1.341078</td>\n",
       "      <td>-0.913896</td>\n",
       "      <td>2.755286</td>\n",
       "      <td>distraction strategy when the has idea how lea...</td>\n",
       "      <td>NaN</td>\n",
       "      <td>Australia</td>\n",
       "      <td>Fri Jan 01 00:01:18 +0000 2021</td>\n",
       "      <td>01</td>\n",
       "      <td>...</td>\n",
       "      <td>0</td>\n",
       "      <td>0</td>\n",
       "      <td>0</td>\n",
       "      <td>0</td>\n",
       "      <td>0</td>\n",
       "      <td>0</td>\n",
       "      <td>0</td>\n",
       "      <td>0</td>\n",
       "      <td>0</td>\n",
       "      <td>0</td>\n",
       "    </tr>\n",
       "    <tr>\n",
       "      <th>1</th>\n",
       "      <td>1.344796e+18</td>\n",
       "      <td>positive</td>\n",
       "      <td>1.195422</td>\n",
       "      <td>1.456938</td>\n",
       "      <td>0.290641</td>\n",
       "      <td>me2.....makes all the difference morrison abou...</td>\n",
       "      <td>NaN</td>\n",
       "      <td>Australia</td>\n",
       "      <td>Fri Jan 01 00:02:57 +0000 2021</td>\n",
       "      <td>01</td>\n",
       "      <td>...</td>\n",
       "      <td>0</td>\n",
       "      <td>0</td>\n",
       "      <td>0</td>\n",
       "      <td>0</td>\n",
       "      <td>0</td>\n",
       "      <td>0</td>\n",
       "      <td>0</td>\n",
       "      <td>0</td>\n",
       "      <td>0</td>\n",
       "      <td>0</td>\n",
       "    </tr>\n",
       "    <tr>\n",
       "      <th>2</th>\n",
       "      <td>1.344797e+18</td>\n",
       "      <td>positive</td>\n",
       "      <td>0.941104</td>\n",
       "      <td>5.801032</td>\n",
       "      <td>-1.371137</td>\n",
       "      <td>happy new year home country. welcome 2021 . st...</td>\n",
       "      <td>NaN</td>\n",
       "      <td>Australia</td>\n",
       "      <td>Fri Jan 01 00:07:53 +0000 2021</td>\n",
       "      <td>01</td>\n",
       "      <td>...</td>\n",
       "      <td>0</td>\n",
       "      <td>0</td>\n",
       "      <td>0</td>\n",
       "      <td>0</td>\n",
       "      <td>0</td>\n",
       "      <td>0</td>\n",
       "      <td>0</td>\n",
       "      <td>0</td>\n",
       "      <td>0</td>\n",
       "      <td>0</td>\n",
       "    </tr>\n",
       "    <tr>\n",
       "      <th>3</th>\n",
       "      <td>1.344798e+18</td>\n",
       "      <td>negative</td>\n",
       "      <td>1.478128</td>\n",
       "      <td>-1.521863</td>\n",
       "      <td>3.696737</td>\n",
       "      <td>must agree with many comments lucy how dare yo...</td>\n",
       "      <td>NaN</td>\n",
       "      <td>Australia</td>\n",
       "      <td>Fri Jan 01 00:10:57 +0000 2021</td>\n",
       "      <td>01</td>\n",
       "      <td>...</td>\n",
       "      <td>0</td>\n",
       "      <td>0</td>\n",
       "      <td>0</td>\n",
       "      <td>0</td>\n",
       "      <td>0</td>\n",
       "      <td>0</td>\n",
       "      <td>1</td>\n",
       "      <td>0</td>\n",
       "      <td>0</td>\n",
       "      <td>0</td>\n",
       "    </tr>\n",
       "    <tr>\n",
       "      <th>4</th>\n",
       "      <td>1.344798e+18</td>\n",
       "      <td>positive</td>\n",
       "      <td>0.523562</td>\n",
       "      <td>2.530440</td>\n",
       "      <td>0.284532</td>\n",
       "      <td>awesome that now have decent contact tracing a...</td>\n",
       "      <td>victoria, nsw, covid19vic, covid19nsw, gladysc...</td>\n",
       "      <td>Australia</td>\n",
       "      <td>Fri Jan 01 00:11:10 +0000 2021</td>\n",
       "      <td>01</td>\n",
       "      <td>...</td>\n",
       "      <td>0</td>\n",
       "      <td>0</td>\n",
       "      <td>0</td>\n",
       "      <td>0</td>\n",
       "      <td>0</td>\n",
       "      <td>0</td>\n",
       "      <td>0</td>\n",
       "      <td>0</td>\n",
       "      <td>0</td>\n",
       "      <td>0</td>\n",
       "    </tr>\n",
       "  </tbody>\n",
       "</table>\n",
       "<p>5 rows × 84 columns</p>\n",
       "</div>"
      ],
      "text/plain": [
       "       Tweet_ID Sentiment_Label  Logits_Neutral  Logits_Positive  \\\n",
       "0  1.344796e+18        negative        1.341078        -0.913896   \n",
       "1  1.344796e+18        positive        1.195422         1.456938   \n",
       "2  1.344797e+18        positive        0.941104         5.801032   \n",
       "3  1.344798e+18        negative        1.478128        -1.521863   \n",
       "4  1.344798e+18        positive        0.523562         2.530440   \n",
       "\n",
       "   Logits_Negative                                         Tweet_text  \\\n",
       "0         2.755286  distraction strategy when the has idea how lea...   \n",
       "1         0.290641  me2.....makes all the difference morrison abou...   \n",
       "2        -1.371137  happy new year home country. welcome 2021 . st...   \n",
       "3         3.696737  must agree with many comments lucy how dare yo...   \n",
       "4         0.284532  awesome that now have decent contact tracing a...   \n",
       "\n",
       "                                            hashtags    country  \\\n",
       "0                                                NaN  Australia   \n",
       "1                                                NaN  Australia   \n",
       "2                                                NaN  Australia   \n",
       "3                                                NaN  Australia   \n",
       "4  victoria, nsw, covid19vic, covid19nsw, gladysc...  Australia   \n",
       "\n",
       "                       created_at date  ... hospital mass vaccination  \\\n",
       "0  Fri Jan 01 00:01:18 +0000 2021   01  ...        0                0   \n",
       "1  Fri Jan 01 00:02:57 +0000 2021   01  ...        0                0   \n",
       "2  Fri Jan 01 00:07:53 +0000 2021   01  ...        0                0   \n",
       "3  Fri Jan 01 00:10:57 +0000 2021   01  ...        0                0   \n",
       "4  Fri Jan 01 00:11:10 +0000 2021   01  ...        0                0   \n",
       "\n",
       "   olympic park  bondi cluster  greater sydney  gathering  death  infection  \\\n",
       "0             0              0               0          0      0          0   \n",
       "1             0              0               0          0      0          0   \n",
       "2             0              0               0          0      0          0   \n",
       "3             0              0               0          0      1          0   \n",
       "4             0              0               0          0      0          0   \n",
       "\n",
       "   record  social distance  \n",
       "0       0                0  \n",
       "1       0                0  \n",
       "2       0                0  \n",
       "3       0                0  \n",
       "4       0                0  \n",
       "\n",
       "[5 rows x 84 columns]"
      ]
     },
     "execution_count": 256,
     "metadata": {},
     "output_type": "execute_result"
    }
   ],
   "source": [
    "data.head()"
   ]
  },
  {
   "cell_type": "code",
   "execution_count": null,
   "metadata": {},
   "outputs": [],
   "source": [
    "type(date_time_obj)"
   ]
  },
  {
   "cell_type": "code",
   "execution_count": null,
   "metadata": {},
   "outputs": [],
   "source": [
    "date_time_obj.month"
   ]
  },
  {
   "cell_type": "code",
   "execution_count": null,
   "metadata": {},
   "outputs": [],
   "source": []
  }
 ],
 "metadata": {
  "kernelspec": {
   "display_name": "Python 3",
   "language": "python",
   "name": "python3"
  },
  "language_info": {
   "codemirror_mode": {
    "name": "ipython",
    "version": 3
   },
   "file_extension": ".py",
   "mimetype": "text/x-python",
   "name": "python",
   "nbconvert_exporter": "python",
   "pygments_lexer": "ipython3",
   "version": "3.7.6"
  }
 },
 "nbformat": 4,
 "nbformat_minor": 4
}
