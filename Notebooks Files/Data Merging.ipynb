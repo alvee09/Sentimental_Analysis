{
 "cells": [
  {
   "cell_type": "code",
   "execution_count": 15,
   "metadata": {},
   "outputs": [],
   "source": [
    "import pandas as pd\n",
    "firstfile = pd.read_csv(\"./Documents/GitHub/Sentimental_Analysis/covid19SentimentalAnalysis/Data_output/July/Data_file1.csv\")\n",
    "data = pd.DataFrame(columns = firstfile.columns)"
   ]
  },
  {
   "cell_type": "code",
   "execution_count": 16,
   "metadata": {},
   "outputs": [
    {
     "name": "stdout",
     "output_type": "stream",
     "text": [
      "./Documents/GitHub/Sentimental_Analysis/covid19SentimentalAnalysis/Data_output/July/Data_file1.csv\n",
      "./Documents/GitHub/Sentimental_Analysis/covid19SentimentalAnalysis/Data_output/July/Data_file2.csv\n",
      "./Documents/GitHub/Sentimental_Analysis/covid19SentimentalAnalysis/Data_output/July/Data_file3.csv\n",
      "./Documents/GitHub/Sentimental_Analysis/covid19SentimentalAnalysis/Data_output/July/Data_file4.csv\n",
      "./Documents/GitHub/Sentimental_Analysis/covid19SentimentalAnalysis/Data_output/July/Data_file5.csv\n",
      "./Documents/GitHub/Sentimental_Analysis/covid19SentimentalAnalysis/Data_output/July/Data_file6.csv\n",
      "./Documents/GitHub/Sentimental_Analysis/covid19SentimentalAnalysis/Data_output/July/Data_file7.csv\n"
     ]
    }
   ],
   "source": [
    "for i in range(1, 8):\n",
    "    filename = \"./Documents/GitHub/Sentimental_Analysis/covid19SentimentalAnalysis/Data_output/July/Data_file\"\n",
    "    filename = filename + str(i)+ \".csv\"\n",
    "    print(filename)\n",
    "    inputs = pd.read_csv(filename)\n",
    "    data = pd.concat([data, inputs]).drop_duplicates().reset_index(drop=True)"
   ]
  },
  {
   "cell_type": "code",
   "execution_count": 173,
   "metadata": {},
   "outputs": [
    {
     "data": {
      "text/plain": [
       "(10885, 9)"
      ]
     },
     "execution_count": 173,
     "metadata": {},
     "output_type": "execute_result"
    }
   ],
   "source": [
    "data.shape"
   ]
  },
  {
   "cell_type": "code",
   "execution_count": 174,
   "metadata": {},
   "outputs": [],
   "source": [
    "data.to_csv(\"./Documents/GitHub/Sentimental_Analysis/covid19SentimentalAnalysis/Data_output/July/mergedfile.csv\", index= False)"
   ]
  },
  {
   "cell_type": "code",
   "execution_count": 17,
   "metadata": {},
   "outputs": [],
   "source": [
    "january = pd.read_csv(\"./Documents/GitHub/Sentimental_Analysis/covid19SentimentalAnalysis/Data_output/January/mergedfile.csv\")"
   ]
  },
  {
   "cell_type": "code",
   "execution_count": 18,
   "metadata": {},
   "outputs": [],
   "source": [
    "february = pd.read_csv(\"./Documents/GitHub/Sentimental_Analysis/covid19SentimentalAnalysis/Data_output/February/mergedfile.csv\")"
   ]
  },
  {
   "cell_type": "code",
   "execution_count": 19,
   "metadata": {},
   "outputs": [],
   "source": [
    "march = pd.read_csv(\"./Documents/GitHub/Sentimental_Analysis/covid19SentimentalAnalysis/Data_output/March/mergedfile.csv\")"
   ]
  },
  {
   "cell_type": "code",
   "execution_count": 20,
   "metadata": {},
   "outputs": [],
   "source": [
    "april = pd.read_csv(\"./Documents/GitHub/Sentimental_Analysis/covid19SentimentalAnalysis/Data_output/April/mergedfile.csv\")"
   ]
  },
  {
   "cell_type": "code",
   "execution_count": 21,
   "metadata": {},
   "outputs": [],
   "source": [
    "may = pd.read_csv(\"./Documents/GitHub/Sentimental_Analysis/covid19SentimentalAnalysis/Data_output/May/mergedfile.csv\")"
   ]
  },
  {
   "cell_type": "code",
   "execution_count": 22,
   "metadata": {},
   "outputs": [],
   "source": [
    "june = pd.read_csv(\"./Documents/GitHub/Sentimental_Analysis/covid19SentimentalAnalysis/Data_output/June/mergedfile.csv\")"
   ]
  },
  {
   "cell_type": "code",
   "execution_count": 23,
   "metadata": {},
   "outputs": [],
   "source": [
    "july = pd.read_csv(\"./Documents/GitHub/Sentimental_Analysis/covid19SentimentalAnalysis/Data_output/July/mergedfile.csv\")"
   ]
  },
  {
   "cell_type": "code",
   "execution_count": 24,
   "metadata": {},
   "outputs": [],
   "source": [
    "august = pd.read_csv(\"./Documents/GitHub/Sentimental_Analysis/covid19SentimentalAnalysis/Data_output/August/mergedfile.csv\")"
   ]
  },
  {
   "cell_type": "code",
   "execution_count": 25,
   "metadata": {},
   "outputs": [],
   "source": [
    "new_data = pd.concat([january, february]).drop_duplicates().reset_index(drop=True)"
   ]
  },
  {
   "cell_type": "code",
   "execution_count": 26,
   "metadata": {},
   "outputs": [
    {
     "data": {
      "text/plain": [
       "(8203, 9)"
      ]
     },
     "execution_count": 26,
     "metadata": {},
     "output_type": "execute_result"
    }
   ],
   "source": [
    "new_data.shape"
   ]
  },
  {
   "cell_type": "code",
   "execution_count": 27,
   "metadata": {},
   "outputs": [
    {
     "data": {
      "text/plain": [
       "(10887, 9)"
      ]
     },
     "execution_count": 27,
     "metadata": {},
     "output_type": "execute_result"
    }
   ],
   "source": [
    "new_data = pd.concat([new_data, march]).drop_duplicates().reset_index(drop=True)\n",
    "new_data.shape"
   ]
  },
  {
   "cell_type": "code",
   "execution_count": 28,
   "metadata": {},
   "outputs": [
    {
     "data": {
      "text/plain": [
       "(14126, 9)"
      ]
     },
     "execution_count": 28,
     "metadata": {},
     "output_type": "execute_result"
    }
   ],
   "source": [
    "new_data = pd.concat([new_data, april]).drop_duplicates().reset_index(drop=True)\n",
    "new_data.shape"
   ]
  },
  {
   "cell_type": "code",
   "execution_count": 29,
   "metadata": {},
   "outputs": [
    {
     "data": {
      "text/plain": [
       "(18072, 9)"
      ]
     },
     "execution_count": 29,
     "metadata": {},
     "output_type": "execute_result"
    }
   ],
   "source": [
    "new_data = pd.concat([new_data, may]).drop_duplicates().reset_index(drop=True)\n",
    "new_data.shape"
   ]
  },
  {
   "cell_type": "code",
   "execution_count": 30,
   "metadata": {},
   "outputs": [
    {
     "data": {
      "text/plain": [
       "(25605, 9)"
      ]
     },
     "execution_count": 30,
     "metadata": {},
     "output_type": "execute_result"
    }
   ],
   "source": [
    "new_data = pd.concat([new_data, june]).drop_duplicates().reset_index(drop=True)\n",
    "new_data.shape"
   ]
  },
  {
   "cell_type": "code",
   "execution_count": 31,
   "metadata": {},
   "outputs": [
    {
     "data": {
      "text/plain": [
       "(36490, 9)"
      ]
     },
     "execution_count": 31,
     "metadata": {},
     "output_type": "execute_result"
    }
   ],
   "source": [
    "new_data = pd.concat([new_data, july]).drop_duplicates().reset_index(drop=True)\n",
    "new_data.shape"
   ]
  },
  {
   "cell_type": "code",
   "execution_count": 190,
   "metadata": {},
   "outputs": [
    {
     "data": {
      "text/plain": [
       "(45132, 9)"
      ]
     },
     "execution_count": 190,
     "metadata": {},
     "output_type": "execute_result"
    }
   ],
   "source": [
    "new_data = pd.concat([new_data, august]).drop_duplicates().reset_index(drop=True)\n",
    "new_data.shape"
   ]
  },
  {
   "cell_type": "code",
   "execution_count": 32,
   "metadata": {},
   "outputs": [],
   "source": [
    "new_data.to_csv(\"./Documents/GitHub/Sentimental_Analysis/covid19SentimentalAnalysis/Data_output/allMergedv2.csv\", index= False)"
   ]
  },
  {
   "cell_type": "code",
   "execution_count": 118,
   "metadata": {},
   "outputs": [],
   "source": [
    "may = pd.read_csv(\"./Documents/GitHub/Sentimental_Analysis/covid19SentimentalAnalysis/Data_output/May/mergedfile.csv\")"
   ]
  },
  {
   "cell_type": "code",
   "execution_count": 119,
   "metadata": {},
   "outputs": [],
   "source": [
    "new_data = pd.concat([new_data, may]).drop_duplicates().reset_index(drop=True)"
   ]
  },
  {
   "cell_type": "code",
   "execution_count": 120,
   "metadata": {},
   "outputs": [
    {
     "data": {
      "text/plain": [
       "(25605, 9)"
      ]
     },
     "execution_count": 120,
     "metadata": {},
     "output_type": "execute_result"
    }
   ],
   "source": [
    "new_data.shape"
   ]
  },
  {
   "cell_type": "code",
   "execution_count": 121,
   "metadata": {},
   "outputs": [],
   "source": [
    "new_data.to_csv(\"./Documents/GitHub/Sentimental_Analysis/covid19SentimentalAnalysis/Data_output/allMerged.csv\", index= False)"
   ]
  },
  {
   "cell_type": "code",
   "execution_count": null,
   "metadata": {},
   "outputs": [],
   "source": []
  }
 ],
 "metadata": {
  "kernelspec": {
   "display_name": "Python 3",
   "language": "python",
   "name": "python3"
  },
  "language_info": {
   "codemirror_mode": {
    "name": "ipython",
    "version": 3
   },
   "file_extension": ".py",
   "mimetype": "text/x-python",
   "name": "python",
   "nbconvert_exporter": "python",
   "pygments_lexer": "ipython3",
   "version": "3.7.6"
  }
 },
 "nbformat": 4,
 "nbformat_minor": 4
}
